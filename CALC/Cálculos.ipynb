{
 "cells": [
  {
   "attachments": {},
   "cell_type": "markdown",
   "metadata": {},
   "source": [
    "# Datos de consigna"
   ]
  },
  {
   "cell_type": "code",
   "execution_count": 2,
   "metadata": {},
   "outputs": [],
   "source": [
    "import numpy as np\n",
    "import matplotlib.pyplot as plt\n",
    "import sympy as sym"
   ]
  },
  {
   "cell_type": "code",
   "execution_count": 3,
   "metadata": {},
   "outputs": [],
   "source": [
    "# Consigna\n",
    "Vo = np.array([48,16])\n",
    "Vd = 300\n",
    "AL = 4700e-9# H/n**2\n",
    "Io = 1      # A"
   ]
  },
  {
   "cell_type": "code",
   "execution_count": 4,
   "metadata": {},
   "outputs": [],
   "source": [
    "# PWM SG3525\n",
    "# Supply Voltage = 40 Vmax\n",
    "\n",
    "D = [0,0.45]\n",
    "D = 0.25\n",
    "K_D = D/(1-D)"
   ]
  },
  {
   "cell_type": "code",
   "execution_count": 5,
   "metadata": {},
   "outputs": [
    {
     "name": "stdout",
     "output_type": "stream",
     "text": [
      "12 4\n"
     ]
    }
   ],
   "source": [
    "# Relaciones de vueltas\n",
    "N_2vN_1 = 1/(Vd/Vo*K_D)\n",
    "#N_2vN_1 = N_2vN_1/N_2vN_1.min()\n",
    "\n",
    "#N_1 = N_2vN_1*K_D/Vo*Vd\n",
    "N_1 = 25\n",
    "N_2 = N_1 * N_2vN_1\n",
    "N2 = int(N_2[0])\n",
    "N3 = int(N_2[1])\n",
    "\n",
    "print(N2, N3)"
   ]
  },
  {
   "attachments": {},
   "cell_type": "markdown",
   "metadata": {},
   "source": [
    "# VALORES DE INDUCTORES"
   ]
  },
  {
   "cell_type": "code",
   "execution_count": 6,
   "metadata": {},
   "outputs": [
    {
     "name": "stdout",
     "output_type": "stream",
     "text": [
      "25 12 4\n",
      "0.0029375\n",
      "0.00029375\n",
      "0.0026437500000000003\n"
     ]
    }
   ],
   "source": [
    "# Escala de vueltas\n",
    "K = 1\n",
    "N_all = np.array([N_1,N_2[0],N_2[1]])*K\n",
    "N1 = int(N_all[0])\n",
    "N2 = int(N_all[1])\n",
    "N3 = int(N_all[2])\n",
    "print(N1, N2, N3)\n",
    "\n",
    "L1 = AL*N1**2\n",
    "L2 = AL*N2**2\n",
    "L3 = AL*N3**2\n",
    "\n",
    "Ldisp = 0.1*L1\n",
    "Lmag = 0.9*L1\n",
    "ImaxL1 = 0.34\n",
    "#V_swMax = 300 + 48*N1/N2 + 12*N1/N3\n",
    "V_swMax = 640\n",
    "print(L1)\n",
    "print(Ldisp)\n",
    "print(Lmag)\n"
   ]
  },
  {
   "attachments": {},
   "cell_type": "markdown",
   "metadata": {},
   "source": [
    "# CALCULO DE R_snubber y C_snubber"
   ]
  },
  {
   "cell_type": "code",
   "execution_count": 2,
   "metadata": {},
   "outputs": [
    {
     "name": "stdout",
     "output_type": "stream",
     "text": [
      "C:  3e-09\n",
      "R:  370.3703703703704\n",
      "2.04e-05\n"
     ]
    }
   ],
   "source": [
    "def capa(L, I, vc):\n",
    "    return L*I*I/(vc*vc)\n",
    "\n",
    "vc = 1000\n",
    "fs = 75e3\n",
    "T = 1/fs\n",
    "D = 0.25\n",
    "\n",
    "C = 120e-12#capa(Ldisp, ImaxL1, vc)\n",
    "C = 3e-9\n",
    "print(\"C: \",C)\n",
    "\n",
    "t_on = D*T\n",
    "\n",
    "R = t_on/(3*C)\n",
    "print(\"R: \",R)\n",
    "\n",
    "R_test = 390\n",
    "print(R_test*C)\n",
    "\n",
    "R_snubber = 6800\n",
    "C = 120e-12"
   ]
  },
  {
   "cell_type": "code",
   "execution_count": 53,
   "metadata": {},
   "outputs": [],
   "source": [
    "# Parámetros del núcleo\n",
    "B_sat = 200e-3  #T\n",
    "R = 1/AL\n",
    "A = 280e-6      #mm**2\n",
    "A_min = 351e-6 # mm**2"
   ]
  },
  {
   "cell_type": "code",
   "execution_count": 54,
   "metadata": {},
   "outputs": [],
   "source": [
    "# Parámetros de Switching\n",
    "F_SW = 75e3  # Hz\n",
    "T_S = 1/F_SW\n",
    "skin = 66/np.sqrt(F_SW)\n",
    "\n",
    "d_max = 2*skin"
   ]
  },
  {
   "attachments": {},
   "cell_type": "markdown",
   "metadata": {},
   "source": [
    "# Resolución de N1"
   ]
  },
  {
   "cell_type": "code",
   "execution_count": 55,
   "metadata": {},
   "outputs": [],
   "source": [
    "from sympy import Symbol\n",
    "from sympy.solvers import solve"
   ]
  },
  {
   "cell_type": "code",
   "execution_count": 83,
   "metadata": {},
   "outputs": [],
   "source": [
    "I_rms = .34   #A"
   ]
  },
  {
   "cell_type": "code",
   "execution_count": 84,
   "metadata": {},
   "outputs": [],
   "source": [
    "a0 = 0.5*Vd*D*T_S/A_min\n",
    "a1 = B_sat\n",
    "a2 = I_rms/R/A"
   ]
  },
  {
   "cell_type": "code",
   "execution_count": 85,
   "metadata": {},
   "outputs": [
    {
     "data": {
      "text/plain": [
       "[9.94448105081696, 25.0993237051280]"
      ]
     },
     "execution_count": 85,
     "metadata": {},
     "output_type": "execute_result"
    }
   ],
   "source": [
    "N_i = Symbol('N1')\n",
    "solve(a2*N_i**2-a1*N_i+a0)"
   ]
  },
  {
   "cell_type": "code",
   "execution_count": 86,
   "metadata": {},
   "outputs": [],
   "source": [
    "N1_range = [10,30]"
   ]
  },
  {
   "cell_type": "code",
   "execution_count": 87,
   "metadata": {},
   "outputs": [
    {
     "data": {
      "image/png": "[encoded data removed]",
      "text/plain": [
       "<Figure size 640x480 with 1 Axes>"
      ]
     },
     "metadata": {},
     "output_type": "display_data"
    }
   ],
   "source": [
    "nn = np.arange(1,100)\n",
    "zz = np.zeros(nn.size)\n",
    "bb = nn**2*I_rms/R/A_min-nn*B_sat+0.5*Vd*D*T_S/A_min\n",
    "\n",
    "plt.plot(nn, bb, nn, zz)\n",
    "plt.show()"
   ]
  },
  {
   "attachments": {},
   "cell_type": "markdown",
   "metadata": {},
   "source": [
    "# Corrientes de Carga"
   ]
  },
  {
   "cell_type": "code",
   "execution_count": 88,
   "metadata": {},
   "outputs": [],
   "source": [
    "N1 = 25"
   ]
  },
  {
   "cell_type": "code",
   "execution_count": 89,
   "metadata": {},
   "outputs": [
    {
     "data": {
      "text/plain": [
       "0.34081348123901317"
      ]
     },
     "execution_count": 89,
     "metadata": {},
     "output_type": "execute_result"
    }
   ],
   "source": [
    "I_1max = (B_sat-0.5*Vd*D*T_S/N1/A_min)/(N1*AL/A)\n",
    "I_1max"
   ]
  },
  {
   "cell_type": "code",
   "execution_count": 90,
   "metadata": {},
   "outputs": [
    {
     "data": {
      "text/plain": [
       "0.18246370132049516"
      ]
     },
     "execution_count": 90,
     "metadata": {},
     "output_type": "execute_result"
    }
   ],
   "source": [
    "s_max = skin**2*np.pi\n",
    "s_max"
   ]
  },
  {
   "cell_type": "code",
   "execution_count": 91,
   "metadata": {},
   "outputs": [
    {
     "data": {
      "text/plain": [
       "0.47954743528033206"
      ]
     },
     "execution_count": 91,
     "metadata": {},
     "output_type": "execute_result"
    }
   ],
   "source": [
    "I_DC_max = 0.35\n",
    "J = 4\n",
    "I_DC_max/J/s_max"
   ]
  },
  {
   "attachments": {},
   "cell_type": "markdown",
   "metadata": {},
   "source": [
    "# Valores Seleccionados"
   ]
  },
  {
   "cell_type": "code",
   "execution_count": 93,
   "metadata": {},
   "outputs": [],
   "source": [
    "N_2vN_1 = np.array([0.48, 0.16])"
   ]
  },
  {
   "cell_type": "code",
   "execution_count": 94,
   "metadata": {},
   "outputs": [],
   "source": [
    "N1 = 25\n",
    "N2 = N1*N_2vN_1\n",
    "\n",
    "I_1max = 0.34   # A\n",
    "d_cu = 0.33\n",
    "s_cu = (d_cu/2)**2*np.pi\n",
    "\n",
    "J1 = I_1max/s_cu"
   ]
  },
  {
   "cell_type": "code",
   "execution_count": 98,
   "metadata": {},
   "outputs": [
    {
     "name": "stdout",
     "output_type": "stream",
     "text": [
      "[0.70833333 2.125     ]\n",
      "[ 8.28170809 24.84512427]\n",
      "[2.07042702 6.21128107]\n"
     ]
    }
   ],
   "source": [
    "I_2max = I_1max*N1/N2\n",
    "print(I_2max)\n",
    "\n",
    "J2 = I_2max/s_cu\n",
    "print(J2)\n",
    "\n",
    "n2_cu = J2/4\n",
    "print(n2_cu)"
   ]
  },
  {
   "attachments": {},
   "cell_type": "markdown",
   "metadata": {},
   "source": [
    "# Considerando el secundario de 16 V con solamente el límite del pwm"
   ]
  },
  {
   "cell_type": "code",
   "execution_count": 102,
   "metadata": {},
   "outputs": [
    {
     "name": "stdout",
     "output_type": "stream",
     "text": [
      "5.845911591988808\n",
      "1.461477897997202\n"
     ]
    }
   ],
   "source": [
    "I_pwm = 0.5\n",
    "J = I_pwm/s_cu\n",
    "print(J)\n",
    "\n",
    "n_pwm = I_pwm/4/s_cu\n",
    "print(n_pwm)"
   ]
  }
 ],
 "metadata": {
  "kernelspec": {
   "display_name": "Python 3",
   "language": "python",
   "name": "python3"
  },
  "language_info": {
   "codemirror_mode": {
    "name": "ipython",
    "version": 3
   },
   "file_extension": ".py",
   "mimetype": "text/x-python",
   "name": "python",
   "nbconvert_exporter": "python",
   "pygments_lexer": "ipython3",
   "version": "3.8.5"
  },
  "orig_nbformat": 4
 },
 "nbformat": 4,
 "nbformat_minor": 2
}
